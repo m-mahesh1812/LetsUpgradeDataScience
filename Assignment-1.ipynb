{
 "cells": [
  {
   "cell_type": "markdown",
   "metadata": {},
   "source": [
    "1. b.RAINBOW"
   ]
  },
  {
   "cell_type": "markdown",
   "metadata": {},
   "source": [
    "2. "
   ]
  },
  {
   "cell_type": "code",
   "execution_count": 1,
   "metadata": {},
   "outputs": [
    {
     "name": "stdout",
     "output_type": "stream",
     "text": [
      "LETS UPGRADE\n"
     ]
    }
   ],
   "source": [
    "print(\"LETS UPGRADE\")"
   ]
  },
  {
   "cell_type": "markdown",
   "metadata": {},
   "source": [
    "3."
   ]
  },
  {
   "cell_type": "code",
   "execution_count": 2,
   "metadata": {},
   "outputs": [
    {
     "name": "stdout",
     "output_type": "stream",
     "text": [
      "20\n",
      "30\n",
      "Profit\n"
     ]
    }
   ],
   "source": [
    "def profit(cp,sp):\n",
    "    if(sp<cp): \n",
    "        print(\"Loss\") \n",
    "    elif(sp>cp): \n",
    "        print(\"Profit\") \n",
    "    else: \n",
    "        print(\"Neither\")\n",
    "cp=int(input()) \n",
    "sp=int(input()) \n",
    "profit(cp,sp)"
   ]
  },
  {
   "cell_type": "code",
   "execution_count": 3,
   "metadata": {},
   "outputs": [
    {
     "name": "stdout",
     "output_type": "stream",
     "text": [
      "30 \n",
      "20\n",
      "Loss\n"
     ]
    }
   ],
   "source": [
    "def profit(cp,sp):\n",
    "    if(sp<cp): \n",
    "        print(\"Loss\") \n",
    "    elif(sp>cp): \n",
    "        print(\"Profit\") \n",
    "    else: \n",
    "        print(\"Neither\")\n",
    "cp=int(input()) \n",
    "sp=int(input()) \n",
    "profit(cp,sp)"
   ]
  },
  {
   "cell_type": "code",
   "execution_count": 4,
   "metadata": {},
   "outputs": [
    {
     "name": "stdout",
     "output_type": "stream",
     "text": [
      "30\n",
      "30\n",
      "Neither\n"
     ]
    }
   ],
   "source": [
    "def profit(cp,sp):\n",
    "    if(sp<cp): \n",
    "        print(\"Loss\") \n",
    "    elif(sp>cp): \n",
    "        print(\"Profit\") \n",
    "    else: \n",
    "        print(\"Neither\")\n",
    "cp=int(input()) \n",
    "sp=int(input()) \n",
    "profit(cp,sp)\n"
   ]
  },
  {
   "cell_type": "markdown",
   "metadata": {},
   "source": [
    "4."
   ]
  },
  {
   "cell_type": "code",
   "execution_count": 5,
   "metadata": {},
   "outputs": [
    {
     "name": "stdout",
     "output_type": "stream",
     "text": [
      "10\n",
      "800\n"
     ]
    }
   ],
   "source": [
    "\n",
    "euros=int(input())\n",
    "rupees=euros*80\n",
    "print(rupees)"
   ]
  },
  {
   "cell_type": "code",
   "execution_count": null,
   "metadata": {},
   "outputs": [],
   "source": []
  }
 ],
 "metadata": {
  "kernelspec": {
   "display_name": "Python 3",
   "language": "python",
   "name": "python3"
  },
  "language_info": {
   "codemirror_mode": {
    "name": "ipython",
    "version": 3
   },
   "file_extension": ".py",
   "mimetype": "text/x-python",
   "name": "python",
   "nbconvert_exporter": "python",
   "pygments_lexer": "ipython3",
   "version": "3.8.3"
  }
 },
 "nbformat": 4,
 "nbformat_minor": 4
}
